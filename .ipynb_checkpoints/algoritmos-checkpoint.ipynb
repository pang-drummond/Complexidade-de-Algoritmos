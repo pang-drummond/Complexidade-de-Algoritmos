{
 "cells": [
  {
   "cell_type": "code",
   "execution_count": 1,
   "metadata": {},
   "outputs": [
    {
     "data": {
      "text/plain": [
       "6765"
      ]
     },
     "execution_count": 1,
     "metadata": {},
     "output_type": "execute_result"
    }
   ],
   "source": [
    "def fibo(n):\n",
    "    if n == 0: return 0\n",
    "    if n == 1: return 1\n",
    "    return fibo(n-1) + fibo(n-2)\n",
    "\n",
    "fibo(20)"
   ]
  },
  {
   "cell_type": "code",
   "execution_count": 2,
   "metadata": {},
   "outputs": [
    {
     "data": {
      "text/plain": [
       "832040"
      ]
     },
     "execution_count": 2,
     "metadata": {},
     "output_type": "execute_result"
    }
   ],
   "source": [
    "fibo(30)"
   ]
  },
  {
   "cell_type": "code",
   "execution_count": 4,
   "metadata": {},
   "outputs": [
    {
     "data": {
      "text/plain": [
       "6765"
      ]
     },
     "execution_count": 4,
     "metadata": {},
     "output_type": "execute_result"
    }
   ],
   "source": [
    "def fibo_iter(n):\n",
    "    if n < 2: return n\n",
    "    x1, x2 = 0, 1\n",
    "    for i in range(2,n+1):\n",
    "        x1, x2 = x2, x1 + x2\n",
    "    return x2\n",
    "fibo_iter(20)"
   ]
  },
  {
   "cell_type": "code",
   "execution_count": 5,
   "metadata": {},
   "outputs": [
    {
     "data": {
      "text/plain": [
       "832040"
      ]
     },
     "execution_count": 5,
     "metadata": {},
     "output_type": "execute_result"
    }
   ],
   "source": [
    "fibo_iter(30)"
   ]
  },
  {
   "cell_type": "code",
   "execution_count": 7,
   "metadata": {},
   "outputs": [
    {
     "data": {
      "text/plain": [
       "354224848179261915075"
      ]
     },
     "execution_count": 7,
     "metadata": {},
     "output_type": "execute_result"
    }
   ],
   "source": [
    "fibo_iter(100)"
   ]
  },
  {
   "cell_type": "code",
   "execution_count": 8,
   "metadata": {},
   "outputs": [
    {
     "data": {
      "text/plain": [
       "573147844013817084101"
      ]
     },
     "execution_count": 8,
     "metadata": {},
     "output_type": "execute_result"
    }
   ],
   "source": [
    "fibo_iter(101)"
   ]
  },
  {
   "cell_type": "code",
   "execution_count": 3,
   "metadata": {},
   "outputs": [
    {
     "data": {
      "text/plain": [
       "18446744073709551616"
      ]
     },
     "execution_count": 3,
     "metadata": {},
     "output_type": "execute_result"
    }
   ],
   "source": [
    "2**64"
   ]
  },
  {
   "cell_type": "code",
   "execution_count": null,
   "metadata": {},
   "outputs": [],
   "source": [
    "def poli(x):\n",
    "    return 3 + x*(2 + x)"
   ]
  },
  {
   "cell_type": "code",
   "execution_count": null,
   "metadata": {},
   "outputs": [],
   "source": [
    "poli(3)"
   ]
  },
  {
   "cell_type": "code",
   "execution_count": 1,
   "metadata": {},
   "outputs": [
    {
     "name": "stdout",
     "output_type": "stream",
     "text": [
      "(1, 10)\n"
     ]
    }
   ],
   "source": [
    "def minMax(vi, n):\n",
    "    min = max = vi[0]\n",
    "    for i in range(1,n):\n",
    "        if vi[i] > max: max = vi[i]\n",
    "        if vi[i] < min: min = vi[i]\n",
    "    return (min,max)\n",
    "\n",
    "vetor=[3,5,7,2,10,3,1]\n",
    "print(minMax(vetor, 7))"
   ]
  },
  {
   "cell_type": "code",
   "execution_count": 3,
   "metadata": {},
   "outputs": [
    {
     "name": "stdout",
     "output_type": "stream",
     "text": [
      "(2, 10)\n"
     ]
    }
   ],
   "source": [
    "print(minMax(vetor,5))"
   ]
  },
  {
   "cell_type": "code",
   "execution_count": 5,
   "metadata": {},
   "outputs": [
    {
     "name": "stdout",
     "output_type": "stream",
     "text": [
      "(2, 7)\n"
     ]
    }
   ],
   "source": [
    "print(minMax(vetor,4))"
   ]
  },
  {
   "cell_type": "code",
   "execution_count": 8,
   "metadata": {},
   "outputs": [
    {
     "name": "stdout",
     "output_type": "stream",
     "text": [
      "(1, 9)\n"
     ]
    }
   ],
   "source": [
    "fibo=[0,1,1,2,3,5,8,13,21]"
   ]
  },
  {
   "cell_type": "code",
   "execution_count": 2,
   "metadata": {},
   "outputs": [
    {
     "name": "stdout",
     "output_type": "stream",
     "text": [
      "[3, 2]\n",
      "[]\n",
      "[1]\n",
      "##############\n",
      "[3]\n",
      "[2]\n",
      "[1]\n",
      "##############\n",
      "[3]\n",
      "[2, 1]\n",
      "[]\n",
      "##############\n",
      "[]\n",
      "[2, 1]\n",
      "[3]\n",
      "##############\n",
      "[1]\n",
      "[2]\n",
      "[3]\n",
      "##############\n",
      "[1]\n",
      "[]\n",
      "[3, 2]\n",
      "##############\n",
      "[]\n",
      "[]\n",
      "[3, 2, 1]\n",
      "##############\n"
     ]
    }
   ],
   "source": [
    "A = [3, 2, 1]\n",
    "B = []\n",
    "C = []\n",
    "\n",
    "def move(n, origem, destino, auxiliar):\n",
    "    if n > 0:\n",
    "        # Move n - 1 discos da source para o auxiliar\n",
    "        move(n - 1, origem, auxiliar, destino)\n",
    "\n",
    "        # Move o n-ésimo disco da fonte para o destino, para cada chamada de move, este é\n",
    "        # o único movimento que é executado\n",
    "        destino.append(origem.pop())\n",
    "\n",
    "        # mostra o nosso progresso\n",
    "        print(A, B, C, '##############', sep='\\n')\n",
    "\n",
    "        # Move os n - 1 discos que deixamos no auxiliar para o destino\n",
    "        move(n - 1, auxiliar, destino, origem)\n",
    "\n",
    "# iniciliza a chamada com a origem A para o destino C com o auxiliar B\n",
    "move(3, A, C, B)"
   ]
  },
  {
   "cell_type": "code",
   "execution_count": 6,
   "metadata": {},
   "outputs": [
    {
     "name": "stdout",
     "output_type": "stream",
     "text": [
      "['alo', 'bravo', 'mundo']\n"
     ]
    }
   ],
   "source": [
    "def select_sort(vec,n):\n",
    "    for i in range(0,n-1):\n",
    "        menor = i\n",
    "        for j in range(i+1,n):\n",
    "              if vec[j] < vec[menor]: menor = j\n",
    "        vec[i], vec[menor] = vec[menor], vec[i]\n",
    "a=['alo', 'mundo', 'bravo']\n",
    "select_sort(a,3)\n",
    "print(a)"
   ]
  },
  {
   "cell_type": "code",
   "execution_count": 5,
   "metadata": {},
   "outputs": [
    {
     "data": {
      "text/plain": [
       "['alo', 'bravo', 'mundo']"
      ]
     },
     "execution_count": 5,
     "metadata": {},
     "output_type": "execute_result"
    }
   ],
   "source": [
    "a"
   ]
  },
  {
   "cell_type": "code",
   "execution_count": null,
   "metadata": {},
   "outputs": [],
   "source": [
    "def menor(vec, n):\n",
    "    min = 0\n",
    "    for i in range(1,n):\n",
    "        if "
   ]
  }
 ],
 "metadata": {
  "kernelspec": {
   "display_name": "Python 3",
   "language": "python",
   "name": "python3"
  },
  "language_info": {
   "codemirror_mode": {
    "name": "ipython",
    "version": 3
   },
   "file_extension": ".py",
   "mimetype": "text/x-python",
   "name": "python",
   "nbconvert_exporter": "python",
   "pygments_lexer": "ipython3",
   "version": "3.7.3"
  }
 },
 "nbformat": 4,
 "nbformat_minor": 2
}
