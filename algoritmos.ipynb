{
 "cells": [
  {
   "cell_type": "code",
   "execution_count": null,
   "metadata": {},
   "outputs": [],
   "source": [
    "def fibo(n):\n",
    "    if n == 0: return 0\n",
    "    if n == 1: return 1\n",
    "    return fibo(n-1) + fibo(n-2)\n",
    "\n",
    "fibo(20)"
   ]
  },
  {
   "cell_type": "code",
   "execution_count": null,
   "metadata": {},
   "outputs": [],
   "source": [
    "fibo(30)"
   ]
  },
  {
   "cell_type": "code",
   "execution_count": null,
   "metadata": {},
   "outputs": [],
   "source": [
    "def fibo_iter(n):\n",
    "    if n < 2: return n\n",
    "    x1, x2 = 0, 1\n",
    "    for i in range(2,n+1):\n",
    "        x1, x2 = x2, x1 + x2\n",
    "    return x2\n",
    "fibo_iter(20)"
   ]
  },
  {
   "cell_type": "code",
   "execution_count": null,
   "metadata": {},
   "outputs": [],
   "source": [
    "fibo_iter(30)"
   ]
  },
  {
   "cell_type": "code",
   "execution_count": null,
   "metadata": {},
   "outputs": [],
   "source": [
    "fibo_iter(100)"
   ]
  },
  {
   "cell_type": "code",
   "execution_count": null,
   "metadata": {},
   "outputs": [],
   "source": [
    "fibo_iter(101)"
   ]
  },
  {
   "cell_type": "code",
   "execution_count": null,
   "metadata": {},
   "outputs": [],
   "source": [
    "2**64"
   ]
  },
  {
   "cell_type": "code",
   "execution_count": null,
   "metadata": {},
   "outputs": [],
   "source": [
    "def poli(x):\n",
    "    return 3 + x*(2 + x)"
   ]
  },
  {
   "cell_type": "code",
   "execution_count": null,
   "metadata": {},
   "outputs": [],
   "source": [
    "poli(3)"
   ]
  },
  {
   "cell_type": "code",
   "execution_count": null,
   "metadata": {},
   "outputs": [],
   "source": [
    "def minMax(vi, n):\n",
    "    min = max = vi[0]\n",
    "    for i in range(1,n):\n",
    "        if vi[i] > max: max = vi[i]\n",
    "        if vi[i] < min: min = vi[i]\n",
    "    return (min,max)\n",
    "\n",
    "vetor=[3,5,7,2,10,3,1]\n",
    "print(minMax(vetor, 7))"
   ]
  },
  {
   "cell_type": "code",
   "execution_count": null,
   "metadata": {},
   "outputs": [],
   "source": [
    "print(minMax(vetor,5))"
   ]
  },
  {
   "cell_type": "code",
   "execution_count": null,
   "metadata": {},
   "outputs": [],
   "source": [
    "print(minMax(vetor,4))"
   ]
  },
  {
   "cell_type": "code",
   "execution_count": null,
   "metadata": {},
   "outputs": [],
   "source": [
    "fibo=[0,1,1,2,3,5,8,13,21]"
   ]
  },
  {
   "cell_type": "code",
   "execution_count": null,
   "metadata": {},
   "outputs": [],
   "source": [
    "A = [3, 2, 1]\n",
    "B = []\n",
    "C = []\n",
    "\n",
    "def move(n, origem, destino, auxiliar):\n",
    "    if n > 0:\n",
    "        # Move n - 1 discos da source para o auxiliar\n",
    "        move(n - 1, origem, auxiliar, destino)\n",
    "\n",
    "        # Move o n-ésimo disco da fonte para o destino, para cada chamada de move, este é\n",
    "        # o único movimento que é executado\n",
    "        destino.append(origem.pop())\n",
    "\n",
    "        # mostra o nosso progresso\n",
    "        print(A, B, C, '##############', sep='\\n')\n",
    "\n",
    "        # Move os n - 1 discos que deixamos no auxiliar para o destino\n",
    "        move(n - 1, auxiliar, destino, origem)\n",
    "\n",
    "# iniciliza a chamada com a origem A para o destino C com o auxiliar B\n",
    "move(3, A, C, B)"
   ]
  },
  {
   "cell_type": "code",
   "execution_count": null,
   "metadata": {},
   "outputs": [],
   "source": [
    "def select_sort(vec,n):\n",
    "    for i in range(0,n-1):\n",
    "        menor = i\n",
    "        for j in range(i+1,n):\n",
    "              if vec[j] < vec[menor]: menor = j\n",
    "        vec[i], vec[menor] = vec[menor], vec[i]\n",
    "a=['alo', 'mundo', 'bravo']\n",
    "select_sort(a,3)\n",
    "print(a)\n",
    "b = a[1:2]\n",
    "print(b[0])"
   ]
  },
  {
   "cell_type": "code",
   "execution_count": null,
   "metadata": {},
   "outputs": [],
   "source": [
    "a"
   ]
  },
  {
   "cell_type": "code",
   "execution_count": null,
   "metadata": {},
   "outputs": [],
   "source": [
    "contador = 0\n",
    "def menor(vec, i, n):\n",
    "    min = i\n",
    "    for indice in range(i+1,n):  # i+1, i+2, ..., n-1\n",
    "        global contador\n",
    "        contador += 1\n",
    "        if vec[indice] < vec[min]: min = indice # o teste é executado n - (i +1) vezes\n",
    "    return min\n",
    "vetor=[3,5,2,8,10, 1]\n",
    "def selection_sort(vec,n):\n",
    "    for ind in range(0,n-1):    # ind = 0, 1, 2, ..., n-2 = [0, n-2] = (-1, n-1) = [0,n-1)\n",
    "        min = menor(vec, ind, n)\n",
    "        vec[ind], vec[min] = vec[min], vec[ind]\n",
    "selection_sort(vetor,len(vetor))\n",
    "print(vetor)"
   ]
  },
  {
   "cell_type": "code",
   "execution_count": null,
   "metadata": {},
   "outputs": [],
   "source": [
    "print(contador)"
   ]
  },
  {
   "cell_type": "code",
   "execution_count": null,
   "metadata": {},
   "outputs": [],
   "source": [
    "def insert_sort(vec,n):\n",
    "    for i in range(1,n):\n",
    "        chave = vec[i]\n",
    "        j = i - 1\n",
    "        while j >= 0 and vec[j] > chave:\n",
    "            vec[j+1] = vec[j]\n",
    "            j -= 1\n",
    "            print(\" \",vec)\n",
    "        vec[j+1] = chave\n",
    "        print(vec)\n",
    "vetor = [10,8,7,5,3,2]\n",
    "insert_sort(vetor,len(vetor))\n",
    "# print(vetor)"
   ]
  },
  {
   "cell_type": "code",
   "execution_count": 15,
   "metadata": {},
   "outputs": [
    {
     "name": "stdout",
     "output_type": "stream",
     "text": [
      "[3, 5]\n",
      "[3, 5, 7]\n",
      "[2, 10]\n",
      "[2, 3, 5, 7, 10]\n",
      "[1, 3]\n",
      "[4, 11]\n",
      "[1, 3, 4, 11]\n",
      "[1, 2, 3, 3, 4, 5, 7, 10, 11]\n"
     ]
    }
   ],
   "source": [
    "def merge_sort(A, ini, fim):\n",
    "    if ini >= fim: return\n",
    "    meio = (ini + fim) // 2\n",
    "    merge_sort(A, ini, meio)\n",
    "    merge_sort(A, meio + 1, fim)\n",
    "    merge(A, ini, meio, fim)\n",
    "    \n",
    "def merge(A, p, m, r):\n",
    "    esqu = A[p : m+1]\n",
    "    dire = A[m+1 : r+1]\n",
    "    i, j, k = 0, 0, p\n",
    "    while i <= m - p and j <= r - m - 1:\n",
    "        if esqu[i] < dire[j]:\n",
    "            A[k] = esqu[i]\n",
    "            i += 1\n",
    "        else:\n",
    "            A[k] = dire[j]\n",
    "            j += 1\n",
    "        k += 1\n",
    "    while i <= m - p:\n",
    "        A[k] = esqu[i]\n",
    "        i += 1\n",
    "        k += 1\n",
    "    while j <= r - m - 1:\n",
    "        A[k] = dire[j]\n",
    "        j += 1\n",
    "        k += 1\n",
    "    print(A[p:r+1])\n",
    "    \n",
    "vetor = [3,5,7,2,10,3,1,11, 4]\n",
    "merge_sort(vetor,0,len(vetor)-1)"
   ]
  },
  {
   "cell_type": "code",
   "execution_count": 16,
   "metadata": {},
   "outputs": [
    {
     "name": "stdout",
     "output_type": "stream",
     "text": [
      "[3, 5, 7, 2, 10, 3, 1, 11] 7\n",
      "[1, 5, 7, 2, 10, 3, 3] 0\n",
      "[2, 3, 3, 10, 7, 5] 3\n",
      "[2, 3] 2\n",
      "[5, 7, 10] 4\n",
      "[7, 10] 6\n",
      "[1, 2, 3, 3, 5, 7, 10, 11]\n"
     ]
    }
   ],
   "source": [
    "def quick_sort(A, ini, fim):\n",
    "    if ini >= fim: return\n",
    "    q = particione(A, ini, fim)\n",
    "    quick_sort(A, ini, q - 1)\n",
    "    quick_sort(A, q + 1, fim)\n",
    "    \n",
    "def particione(A, p, r):\n",
    "    q = p\n",
    "    for u in range(p, r):\n",
    "        if A[u] <= A[r]:\n",
    "            A[q], A[u] = A[u], A[q]\n",
    "            q += 1\n",
    "    A[q], A[r] = A[r], A[q]\n",
    "    print(A[p:r+1],q)\n",
    "    return q\n",
    "\n",
    "vetor = [3,5,7,2,10,3,1,11]\n",
    "quick_sort(vetor,0,len(vetor)-1)\n",
    "print(vetor)"
   ]
  },
  {
   "cell_type": "code",
   "execution_count": null,
   "metadata": {},
   "outputs": [],
   "source": []
  }
 ],
 "metadata": {
  "kernelspec": {
   "display_name": "Python 3",
   "language": "python",
   "name": "python3"
  },
  "language_info": {
   "codemirror_mode": {
    "name": "ipython",
    "version": 3
   },
   "file_extension": ".py",
   "mimetype": "text/x-python",
   "name": "python",
   "nbconvert_exporter": "python",
   "pygments_lexer": "ipython3",
   "version": "3.7.3"
  }
 },
 "nbformat": 4,
 "nbformat_minor": 2
}
